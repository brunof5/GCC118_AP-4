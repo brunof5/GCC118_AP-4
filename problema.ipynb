{
  "nbformat": 4,
  "nbformat_minor": 0,
  "metadata": {
    "colab": {
      "provenance": [],
      "collapsed_sections": [
        "-lwOSIsC6Nvz",
        "F2XchNl1TV8u"
      ]
    },
    "kernelspec": {
      "name": "python3",
      "display_name": "Python 3"
    },
    "language_info": {
      "name": "python"
    }
  },
  "cells": [
    {
      "cell_type": "markdown",
      "source": [
        "# GCC118 - Programação Matemática\n",
        "## Universidade Federal de Lavras\n",
        "### Instituto de Ciências Exatas e Tecnológicas\n",
        "#### Profa. Andreza C. Beezão Moreira (DMM/UFLA)\n",
        "#### Prof. Mayron César O. Moreira (DCC/UFLA)\n",
        "#### Aluno: Bruno Crespo Ferreira"
      ],
      "metadata": {
        "id": "YCB9LrEq6Jko"
      }
    },
    {
      "cell_type": "markdown",
      "source": [
        "## Problema\n",
        "\n",
        "O problema se baseia em implementar um modelo matemático, utilizando programação dinâmica, que maximize a recompensa esperada e a probabilidade de ganhar uma determinada quantia de dinheiro no jogo de TV \"Quem quer ser um milionário?\"\n",
        "\n",
        "Para esta implementação foi utilizado o artigo a seguir como referência: \"Perea, F., & Puerto, J. (2007). Dynamic programming analysis of the TV game “Who wants to be a millionaire?”. European Journal of Operational Research, 183(2), 805-811.\".\n",
        "\n",
        "O competidor deve responder corretamente 15 questões de múltipla escolha em seguida. Cada questão possui 4 opções. O competidor pode parar, responder ou pedir ajuda. Há 3 tipos de ajuda:\n",
        "* 50:50 que consiste em retirar 2 de 3 opções incorretas;\n",
        "* Ligar para um amigo, onde terão 30 segundos para discussão; ou\n",
        "* Plateia, onde há uma votação e o resultado porcentual é mostrado ao competidor."
      ],
      "metadata": {
        "id": "-lwOSIsC6Nvz"
      }
    },
    {
      "cell_type": "markdown",
      "source": [
        "## Modelagem Matemática"
      ],
      "metadata": {
        "id": "F2XchNl1TV8u"
      }
    },
    {
      "cell_type": "markdown",
      "source": [
        "### Parâmetros\n",
        "\n",
        "* $N$: estágios do jogo. Há 16 estágios, o 16º estágio indica que o competidor acertou a 15ª questão;\n",
        "* $S$: conjunto de vetores de estado;\n",
        "* $A(s)$: conjunto de ações viáveis no estado $s$;\n",
        "* $r_{k}$: recompensa do competidor se ele decidir parar após responder a questão $k$ corretamente;\n",
        "* $r_{k}^*$: recompensa do competidor se ele errar a questão $k+1$;\n",
        "* $c_{k}^i$: fator fixo de melhoria ao usar a ajuda $i$ na questão $k$."
      ],
      "metadata": {
        "id": "HdJ46n0_7hqj"
      }
    },
    {
      "cell_type": "markdown",
      "source": [
        "### Variáveis\n",
        "\n",
        "* $k$: índice da questão atual;\n",
        "* $l_{i}$: variável binária, onde é $1$ se a ajuda $i$ pode ser usada, $0$ caso contrário;\n",
        "* $l_{i}^´$: variável binária, onde é $l_{i}-1$ se a ajuda $i$ é usada na questão $k$, $l_{i}$ caso contrário;\n",
        "* $p_{k}^*$: probabilidade da resposta estar correta sem nenhuma ajuda na questão $k$;\n",
        "* $p_{k}^i$: probabilidade da resposta estar correta utilizando a ajuda $i$ na questão $k$;\n",
        "* $p_{s}^a$: probabilidade de acertar a resposta de uma questão no estado $s \\in S$ com a escolha da ação $a \\in A(s)$."
      ],
      "metadata": {
        "id": "j6i-S7c5P3cJ"
      }
    },
    {
      "cell_type": "markdown",
      "source": [
        "### Considerações\n",
        "\n",
        "Se $k \\le 15$, o competidor tem as seguintes ações:\n",
        "1. Responder a questão sem ajuda;\n",
        "2. Responder a questão utilizando uma ou mais ajuda(s);\n",
        "3. Parar e sair do jogo (ganhando o valor do estágio anterior).\n",
        "\n",
        "Alguns pontos que valem a pena serem ressaltados/relembrados:\n",
        "* Se o competidor decidir responder, a recompensa é uma variável aleatória e depende da probabilidade de se responder certo;\n",
        "* Se o competidor errar, ele ganhará a recompensa do último \"ponto de garantia\", que são as questões 5 e 10;\n",
        "* Se o competidor parar ou errar, o jogo acaba;\n",
        "* Se o competidor acertar, ele avança para o próximo estágio."
      ],
      "metadata": {
        "id": "otezROli-03q"
      }
    },
    {
      "cell_type": "markdown",
      "source": [
        "### Explicando melhor alguns tópicos da modelagem\n",
        "\n",
        "No artigo, foi retratado a utilização de uma análise de regressão linear restrita que resultou em como representar as probabilidades $p_{k}^*, p_{k}^1,p_{k}^2 \\ \\text{e} \\ p_{k}^3$:\n",
        "* $p_{k}^* = 0.996 - 0.051(k - 1)$\n",
        "* $p_{k}^1 = 1.000 - 0.037(k - 1)$\n",
        "* $p_{k}^2 = 1.000 - 0.029(k - 1)$\n",
        "* $p_{k}^3 = 1.000 - 0.041(k - 1)$\n",
        "\n",
        "Ademais, o artigo discute outra forma de calcular $p_{k}^i$ que consiste em assumir que existe uma relação multiplicativa entre a probabilidade de falhar em um dado estado usando a ajuda $i$ e a probabilidade de falha sem nenhuma ajuda. Matematicamente:\n",
        "$q_{k}^i = q_{k}^* ⋅ c_{k}^i ⇔ p_{k}^i = 1 - (1 - p_{k}^*) ⋅ c_{k}^i$.\n",
        "\n",
        "Na implementação utilizou-se a fórmula $p_{k}^i$ pela relação multiplicativa, ao invés da análise de regressão linear.\n",
        "\n",
        "Caso o competidor utilize simultaneamente duas ou mais ajudas na mesma questão, multiplica-se sucessivamente os fatores $c_{k}^i$. Matematicamente: $p_{k}^i = 1 - (1 - p_{k}^*) ⋅ c_{k}^1 ⋅ c_{k}^2 ⋅ \\ \\text{...} \\ ⋅ c_{k}^n$."
      ],
      "metadata": {
        "id": "C9zWTZU-TCTZ"
      }
    },
    {
      "cell_type": "markdown",
      "source": [
        "### Função Objetivo\n",
        "\n",
        "$f(s)$ consiste em maximizar a recompensa máxima esperada a partir de um estado.\n",
        "\n",
        "Um estado é representado como $s = (k, l_{1}, l_{2}, l_{3})$, elemento do conjunto $S$.\n",
        "\n",
        "Podemos avaliar a função objetivo da seguinte maneira:\n",
        "* A recompensa máxima esperada de $s$ é a máxima entre as recompensas esperadas de todos os estados possíveis que podem ser alcançados a partir de $s$;\n",
        "* Neste ponto, podemos sair do jogo e garantir $r_{k}$ ou ir para a próxima questão $(k+1)$;\n",
        "* No último caso, se escolhermos a ação $a \\in A(s)$ correta com probabilidade $p_{s}^a$ ou a errada com probabilidade $(1 - p_{s}^a)$, temos a recompensa $r_{k}^*$ do ponto de garantia se a resposta for incorreta, caso contrário iremos transitar para o próximo estágio;\n",
        "* $t(s, a)=(k+1, l_{1}^´, l_{2}^´, l_{3}^´) \\in S$ representa o avanço ao próximo estágio ao escolher a ação $a$ no estado $s$, ou seja, a recompensa se torna $f(t(s, a))$.\n",
        "\n",
        "Sumarizando matematicamente, temos:\n",
        "\n",
        "$f(s) = max_{a \\in A(s)} \\{r_{k}, \\ p_{s}^a ⋅ f(t(s, a)) + (1 - p_{s}^a) ⋅ r_{k}^*\\}$"
      ],
      "metadata": {
        "id": "AKscpmZIaGs6"
      }
    },
    {
      "cell_type": "markdown",
      "source": [
        "## Implementação I"
      ],
      "metadata": {
        "id": "YhavpP_PaNrb"
      }
    },
    {
      "cell_type": "markdown",
      "source": [
        "### Bibliotecas"
      ],
      "metadata": {
        "id": "UdIUHJTXf2My"
      }
    },
    {
      "cell_type": "code",
      "source": [
        "import numpy as np"
      ],
      "metadata": {
        "id": "EVjGKOyaf3Lt"
      },
      "execution_count": 1,
      "outputs": []
    },
    {
      "cell_type": "markdown",
      "source": [
        "### Parâmetros"
      ],
      "metadata": {
        "id": "ysWI4ITPelcd"
      }
    },
    {
      "cell_type": "code",
      "source": [
        "numero_perguntas = 15\n",
        "N = numero_perguntas + 1\n",
        "\n",
        "recompensas = [0, 150, 300, 450, 900, 1800, 2100, 2700, 3600, 4500, 9000, 18000, 36000, 72000, 144000, 300000]  # Tabela 1 do artigo, parâmetro r_k\n",
        "recompensas_garantidas = [0, 0, 0, 0, 0, 1800, 1800, 1800, 1800, 1800, 9000, 9000, 9000, 9000, 9000, 300000] # Tabela 1 do artigo, parâmetro r_k^*\n",
        "\n",
        "ajudas = [\"50:50\", \"telefone\", \"plateia\"]\n",
        "qtd_ajudas = len(ajudas)\n",
        "\n",
        "fatores_ajudas = {  # Tabela 2 do artigo, parâmetro c_k^i\n",
        "    ajudas[0]: [0, 0.672, 0.698, 0.707, 0.711, 0.714, 0.716, 0.717, 0.718, 0.719, 0.719, 0.720, 0.720, 0.721, 0.721],\n",
        "    ajudas[1]: [0, 0.527, 0.547, 0.554, 0.557, 0.559, 0.561, 0.562,  0.563, 0.563, 0.564, 0.564, 0.564, 0.565, 0.565],\n",
        "    ajudas[2]: [0, 0.745, 0.773, 0.783, 0.788, 0.791, 0.793, 0.795,  0.796, 0.796, 0.797, 0.798, 0.798, 0.799, 0.799]\n",
        "}"
      ],
      "metadata": {
        "id": "dDwJ2Obdd_82"
      },
      "execution_count": 2,
      "outputs": []
    },
    {
      "cell_type": "markdown",
      "source": [
        "### Funções"
      ],
      "metadata": {
        "id": "K4CYljhihkkM"
      }
    },
    {
      "cell_type": "code",
      "source": [
        "# Variável p_k^*\n",
        "def probabilidade_sem_ajuda(k):\n",
        "  return max(0, 0.996 - 0.051 * (k - 1))\n",
        "\n",
        "# Variável p_k^i\n",
        "def ajustar_probabilidade(p, ajudas_usadas, k):\n",
        "  if not ajudas_usadas:\n",
        "    return p\n",
        "  fator_ajuda_total = np.prod([fatores_ajudas[ajuda][k] for ajuda in ajudas_usadas])\n",
        "  return 1 - (1 - p) * fator_ajuda_total"
      ],
      "metadata": {
        "id": "DZ-xO7O9hld2"
      },
      "execution_count": 3,
      "outputs": []
    },
    {
      "cell_type": "markdown",
      "source": [
        "### Algoritmo de programação dinâmica"
      ],
      "metadata": {
        "id": "j2U-3nkcjWEb"
      }
    },
    {
      "cell_type": "code",
      "source": [
        "# Matriz para armazenar recompensas esperadas\n",
        "recompensas_esperadas = np.zeros((N, 2**qtd_ajudas))\n",
        "\n",
        "# Preenchendo o estágio de vitória (acertar todas as questões)\n",
        "for idx in range(2**qtd_ajudas):\n",
        "  recompensas_esperadas[N - 1, idx] = recompensas_garantidas[N - 1]\n",
        "\n",
        "# Preenchendo as recompensas esperadas do penúltimo estágio até o primeiro estágio (abordagem top-down)\n",
        "for estagio in range(N - 1, 0, -1):\n",
        "  k = estagio - 1\n",
        "  for estado in range(2**qtd_ajudas):  # Iterando sobre cada combinação de ajudas (000 até 111)\n",
        "    p_sem_ajuda = probabilidade_sem_ajuda(estagio)\n",
        "\n",
        "    recompensa_parar = recompensas[k]\n",
        "    recompensa_responder = (p_sem_ajuda * recompensas_esperadas[estagio, estado] + (1 - p_sem_ajuda) * recompensas_garantidas[k])\n",
        "\n",
        "    # Obtendo as ajudas disponíveis no estado atual\n",
        "    ajudas_disponiveis = [ajuda for i, ajuda in enumerate(ajudas) if (estado >> i) & 1]\n",
        "\n",
        "    if ajudas_disponiveis:\n",
        "      p_com_ajuda = ajustar_probabilidade(p_sem_ajuda, ajudas_disponiveis, k)\n",
        "      novo_estado = estado & ~(sum(1 << i for i, ajuda in enumerate(ajudas) if ajuda in ajudas_disponiveis))\n",
        "      recompensa_responder = max(recompensa_responder, p_com_ajuda * recompensas_esperadas[estagio, novo_estado] + (1 - p_com_ajuda) * recompensas_garantidas[k])\n",
        "\n",
        "    # Atualiza-se a recompensa esperada no estado atual\n",
        "    recompensas_esperadas[k, estado] = max(recompensa_parar, recompensa_responder)"
      ],
      "metadata": {
        "id": "pHaopzJdjZVQ"
      },
      "execution_count": 4,
      "outputs": []
    },
    {
      "cell_type": "markdown",
      "source": [
        "### Exibindo resultados na Questão 15\n",
        "\n",
        "Ao comparar os resultados obtidos com a Tabela 3 do artigo, percebe-se que os resultados são satisfatórios e condizem com o esperado; embora haja uma pequena margem de erro."
      ],
      "metadata": {
        "id": "0wjS5oxDhTPW"
      }
    },
    {
      "cell_type": "code",
      "source": [
        "print(\"\\n--- Recompensas Esperadas na Questão 15 ---\\n\")\n",
        "for estado in range(2**qtd_ajudas):\n",
        "  ajudas_disponiveis = [ajudas[i] for i in range(qtd_ajudas) if (estado >> i) & 1]\n",
        "  if ajudas_disponiveis:\n",
        "    print(f\"Ajuda(s): {' | '.join(ajudas_disponiveis)}\")\n",
        "  else:\n",
        "    print(f\"Sem ajudas disponíveis\")\n",
        "  print(f\"  Recompensa esperada: {recompensas_esperadas[14, estado]:.2f}\")\n",
        "  print(\"----------------------------\")"
      ],
      "metadata": {
        "colab": {
          "base_uri": "https://localhost:8080/"
        },
        "id": "S5UmPCW2hWhP",
        "outputId": "3fb33001-50b9-4f5a-d856-d0dd766e2b00"
      },
      "execution_count": 5,
      "outputs": [
        {
          "output_type": "stream",
          "name": "stdout",
          "text": [
            "\n",
            "--- Recompensas Esperadas na Questão 15 ---\n",
            "\n",
            "Sem ajudas disponíveis\n",
            "  Recompensa esperada: 144000.00\n",
            "----------------------------\n",
            "Ajuda(s): 50:50\n",
            "  Recompensa esperada: 149355.70\n",
            "----------------------------\n",
            "Ajuda(s): telefone\n",
            "  Recompensa esperada: 181950.03\n",
            "----------------------------\n",
            "Ajuda(s): 50:50 | telefone\n",
            "  Recompensa esperada: 214885.97\n",
            "----------------------------\n",
            "Ajuda(s): plateia\n",
            "  Recompensa esperada: 144000.00\n",
            "----------------------------\n",
            "Ajuda(s): 50:50 | plateia\n",
            "  Recompensa esperada: 179635.21\n",
            "----------------------------\n",
            "Ajuda(s): telefone | plateia\n",
            "  Recompensa esperada: 205678.07\n",
            "----------------------------\n",
            "Ajuda(s): 50:50 | telefone | plateia\n",
            "  Recompensa esperada: 231993.89\n",
            "----------------------------\n"
          ]
        }
      ]
    },
    {
      "cell_type": "markdown",
      "source": [
        "## Chegando à uma questão\n",
        "\n",
        "O objetivo agora é encontrar uma estratégia ótima para maximizar a probabilidade de alcançar e responder corretamente a uma determinada questão."
      ],
      "metadata": {
        "id": "QJdOOil-ovdt"
      }
    },
    {
      "cell_type": "markdown",
      "source": [
        "### Novas Variáveis\n",
        "\n",
        "* $w$: número da questão que queremos chegar e acertar;\n",
        "* $g_i$: variável binária, onde $1$ se a ajuda $i$ é usada na questão $k$, 0 caso contrário;\n",
        "* $p_{k, g_1, g_2, g_3}$: probabilidade de responder corretamente questão $k$, usando a ajuda $i$ se $g_i = 1$.\n",
        "\n",
        "Percebe-se que $g_i$ é semelhante às variáveis $l_{i}$ e $l_{i}^´$, mas as diferenças são:\n",
        "* $l_{i}$: indica se a ajuda está disponível no estado atual;\n",
        "* $l_{i}^´$: serve para verificar/tirar a disponibilidade de $l{i}$;\n",
        "* $g_i$: indica se a ajuda será usada neste momento específico.\n",
        "\n",
        "Se em $p_{k, g_1, g_2, g_3}$ não é usada nenhuma ajuda, isso é o mesmo que $p_k^*$."
      ],
      "metadata": {
        "id": "GQv6xhI_paFw"
      }
    },
    {
      "cell_type": "markdown",
      "source": [
        "### Função Objetivo\n",
        "\n",
        "$f(s)$ consiste em maximizar a probabilidade de chegar e acertar a questão $w$ a partir de um estado $s$.\n",
        "\n",
        "Podemos avaliar a nova função objetivo da seguinte maneira:\n",
        "* A máxima probabilidade de atingir e responder corretamente a questão número $w$, começando no estado $s$, é dada pelo maior valor entre as probabilidades das ações possíveis $a \\in A(s)$, considerando a melhor combinação das ajudas $g_1, g_2, g_3$;\n",
        "* Essa probabilidade é o produto da chance de responder corretamente a questão atual e da maior probabilidade de alcançar o objetivo a partir do estado de transição $t(a, s)$, que é o estado resultante de tomar a ação $a$ a partir do estado $s$;\n",
        "* Deve-se atentar que cada estado de transição é necessário refletir quais ajudas restam para as próximas questões.\n",
        "\n",
        "Matematicamente, temos:\n",
        "\n",
        "$f(k, l_1, l_2, l_3) = max_{0 \\ \\le \\ g_i \\ \\le \\ l_i \\\\ g_i \\ \\in \\ \\mathbb{Z} \\ ∀ i} \\{p_{k, g_1, g_2, g_3} ⋅ f(k+1, l_1 - g_1, l_2 - g_2, l_3 - g_3)\\}$\n",
        "\n",
        "Se estivermos na questão $w + 1$, então $w$ foi respondida com sucesso, logo a probabilidade nesse caso é igual a $1$. Por isso, tem-se que:\n",
        "\n",
        "$f(w + 1, l_1, l_2, l_3) = 1 \\quad ∀ l_i \\in \\{0, 1\\},\\quad i = \\{1, 2, 3\\}$"
      ],
      "metadata": {
        "id": "ywhUwultpugw"
      }
    },
    {
      "cell_type": "markdown",
      "source": [
        "## Implementação II"
      ],
      "metadata": {
        "id": "fxhxaiuVztAl"
      }
    },
    {
      "cell_type": "code",
      "source": [
        "def alcancar_acertar_questao(w):\n",
        "  if w == 0:\n",
        "    return None\n",
        "\n",
        "  # Matriz para armazenar as probabilidades máximas de alcançar a questão desejada\n",
        "  probabilidades_acerto = np.zeros((w + 2, 2**qtd_ajudas))\n",
        "\n",
        "  # Guardará a estrátegia que pode ser utilizada\n",
        "  estrategia = np.full(w + 1, \"\", dtype=object)\n",
        "\n",
        "  # Segundo o artigo, a primeira questão sempre é acertada\n",
        "  for idx in range(2**qtd_ajudas):\n",
        "    estrategia[0] = \"nenhuma\"\n",
        "    probabilidades_acerto[0][idx] = 1.0\n",
        "\n",
        "  # Caso base: Se for a primeira questão\n",
        "  if w == 1:\n",
        "    estrategia[1] = \" | \".join(ajudas)\n",
        "    return np.ones((w + 1, 2**qtd_ajudas)), estrategia\n",
        "\n",
        "  # Se estivermos na questão w + 1, a probabilidade de sucesso é 1\n",
        "  for idx in range(2**qtd_ajudas):\n",
        "    probabilidades_acerto[w + 1, idx] = 1.0\n",
        "\n",
        "  ajudas_disponiveis = ajudas.copy()\n",
        "\n",
        "  # Algoritmo de programação dinâmica\n",
        "  for k in range(w, 0, -1):\n",
        "    melhor_probabilidade = 0.0\n",
        "    melhor_ajuda = \"nenhuma\"\n",
        "\n",
        "    for estado in range(2**qtd_ajudas):\n",
        "      ajudas_atuais = [ajuda for i, ajuda in enumerate(ajudas) if (estado >> i) & 1]\n",
        "\n",
        "      if not all(ajuda in ajudas_disponiveis for ajuda in ajudas_atuais):\n",
        "        continue\n",
        "\n",
        "      probabilidade_atual = probabilidade_sem_ajuda(k)\n",
        "      if ajudas_atuais:\n",
        "        probabilidade_atual = ajustar_probabilidade(probabilidade_atual, ajudas_atuais, k - 1)\n",
        "      probabilidades_acerto[k, estado] = probabilidade_atual\n",
        "\n",
        "      complemento_estado = ~estado & ((1 << len(ajudas)) - 1)\n",
        "      ajudas_complementares = [ajuda for i, ajuda in enumerate(ajudas) if (complemento_estado >> i) & 1]\n",
        "\n",
        "      probabilidade_acima = probabilidades_acerto[k + 1][complemento_estado]\n",
        "\n",
        "      produto_probabilidade = probabilidade_atual * probabilidade_acima\n",
        "\n",
        "      if produto_probabilidade > melhor_probabilidade:\n",
        "        melhor_probabilidade = produto_probabilidade\n",
        "        melhor_ajuda = \" | \".join(ajudas_atuais) if ajudas_atuais else \"nenhuma\"\n",
        "\n",
        "    estrategia[k] = melhor_ajuda\n",
        "\n",
        "    for ajuda in melhor_ajuda.split(\" | \"):\n",
        "      if ajuda in ajudas_disponiveis:\n",
        "        ajudas_disponiveis.remove(ajuda)\n",
        "\n",
        "    for idx in range(2**qtd_ajudas):\n",
        "      probabilidades_acerto[k, idx] = melhor_probabilidade\n",
        "\n",
        "  return probabilidades_acerto, estrategia"
      ],
      "metadata": {
        "id": "-emZvUhx2g4v"
      },
      "execution_count": 6,
      "outputs": []
    },
    {
      "cell_type": "markdown",
      "source": [
        "### Exibindo resultados\n",
        "\n",
        "Ao comparar os resultados obtidos com a Tabela 5 e 6 do artigo, percebe-se que os resultados são bons e condizem com o esperado; embora haja uma razoável margem de erro nas questões intermediárias.\n",
        "\n",
        "Essa margem de erro é justificada pela seguinte razão:\n",
        "* O artigo estipula uma ordem de usar as ajudas: plateia, 50:50, telefone;\n",
        "* Essa ordem não é seguida, pois na implementação é armazenada sempre a melhor probabilidade do estado atual, como é utilizado uma abordagem *top-down*, então a máxima probabilidade na questão $w$ sempre é utilizar as três ajudas simultaneamente, logo os demais estados $(\\lt w)$ sempre não utilizam ajudas.\n",
        "\n",
        "Codifiquei dessa forma, pois reaprovetei a ideia que fiz na implementação I, assim o código exige menos esforço computacional (pois pesquisa menos soluções), mas ao custo de não entregar uma probabilidade boa nas questões intermediárias.\n",
        "\n",
        "O interessante seria tentar implementar uma abordagem *bottom-up* e comparar os resultados, porém isso não foi realizado."
      ],
      "metadata": {
        "id": "uHR9kN4w0sRS"
      }
    },
    {
      "cell_type": "code",
      "source": [
        "print('\\n### \"Melhor\" estratégia para alcançar e acertar qualquer questão ###\\n')\n",
        "for w in range(N - 1, 0, -1):\n",
        "  print(f\"\\n--- Questão {w} ---\\n\")\n",
        "  probabilidades_acerto, estrategia = alcancar_acertar_questao(w)\n",
        "\n",
        "  for qi in range(0, w):\n",
        "    print(f\"QI: {qi + 1}\")\n",
        "    print(f\"  Ajudas usadas: {estrategia[qi + 1]}\")\n",
        "  print(f\"Probabilidade: {probabilidades_acerto[1, 3]:.3f}\")\n",
        "  print(\"----------------------------\")"
      ],
      "metadata": {
        "colab": {
          "base_uri": "https://localhost:8080/"
        },
        "id": "oAvBfnOG0tmJ",
        "outputId": "2b034afe-27b6-4672-dd1e-769fdce6ad9b"
      },
      "execution_count": 7,
      "outputs": [
        {
          "output_type": "stream",
          "name": "stdout",
          "text": [
            "\n",
            "### \"Melhor\" estratégia para alcançar e acertar qualquer questão ###\n",
            "\n",
            "\n",
            "--- Questão 15 ---\n",
            "\n",
            "QI: 1\n",
            "  Ajudas usadas: nenhuma\n",
            "QI: 2\n",
            "  Ajudas usadas: nenhuma\n",
            "QI: 3\n",
            "  Ajudas usadas: nenhuma\n",
            "QI: 4\n",
            "  Ajudas usadas: nenhuma\n",
            "QI: 5\n",
            "  Ajudas usadas: nenhuma\n",
            "QI: 6\n",
            "  Ajudas usadas: nenhuma\n",
            "QI: 7\n",
            "  Ajudas usadas: nenhuma\n",
            "QI: 8\n",
            "  Ajudas usadas: nenhuma\n",
            "QI: 9\n",
            "  Ajudas usadas: nenhuma\n",
            "QI: 10\n",
            "  Ajudas usadas: nenhuma\n",
            "QI: 11\n",
            "  Ajudas usadas: nenhuma\n",
            "QI: 12\n",
            "  Ajudas usadas: nenhuma\n",
            "QI: 13\n",
            "  Ajudas usadas: nenhuma\n",
            "QI: 14\n",
            "  Ajudas usadas: nenhuma\n",
            "QI: 15\n",
            "  Ajudas usadas: 50:50 | telefone | plateia\n",
            "Probabilidade: 0.001\n",
            "----------------------------\n",
            "\n",
            "--- Questão 14 ---\n",
            "\n",
            "QI: 1\n",
            "  Ajudas usadas: nenhuma\n",
            "QI: 2\n",
            "  Ajudas usadas: nenhuma\n",
            "QI: 3\n",
            "  Ajudas usadas: nenhuma\n",
            "QI: 4\n",
            "  Ajudas usadas: nenhuma\n",
            "QI: 5\n",
            "  Ajudas usadas: nenhuma\n",
            "QI: 6\n",
            "  Ajudas usadas: nenhuma\n",
            "QI: 7\n",
            "  Ajudas usadas: nenhuma\n",
            "QI: 8\n",
            "  Ajudas usadas: nenhuma\n",
            "QI: 9\n",
            "  Ajudas usadas: nenhuma\n",
            "QI: 10\n",
            "  Ajudas usadas: nenhuma\n",
            "QI: 11\n",
            "  Ajudas usadas: nenhuma\n",
            "QI: 12\n",
            "  Ajudas usadas: nenhuma\n",
            "QI: 13\n",
            "  Ajudas usadas: nenhuma\n",
            "QI: 14\n",
            "  Ajudas usadas: 50:50 | telefone | plateia\n",
            "Probabilidade: 0.004\n",
            "----------------------------\n",
            "\n",
            "--- Questão 13 ---\n",
            "\n",
            "QI: 1\n",
            "  Ajudas usadas: nenhuma\n",
            "QI: 2\n",
            "  Ajudas usadas: nenhuma\n",
            "QI: 3\n",
            "  Ajudas usadas: nenhuma\n",
            "QI: 4\n",
            "  Ajudas usadas: nenhuma\n",
            "QI: 5\n",
            "  Ajudas usadas: nenhuma\n",
            "QI: 6\n",
            "  Ajudas usadas: nenhuma\n",
            "QI: 7\n",
            "  Ajudas usadas: nenhuma\n",
            "QI: 8\n",
            "  Ajudas usadas: nenhuma\n",
            "QI: 9\n",
            "  Ajudas usadas: nenhuma\n",
            "QI: 10\n",
            "  Ajudas usadas: nenhuma\n",
            "QI: 11\n",
            "  Ajudas usadas: nenhuma\n",
            "QI: 12\n",
            "  Ajudas usadas: nenhuma\n",
            "QI: 13\n",
            "  Ajudas usadas: 50:50 | telefone | plateia\n",
            "Probabilidade: 0.010\n",
            "----------------------------\n",
            "\n",
            "--- Questão 12 ---\n",
            "\n",
            "QI: 1\n",
            "  Ajudas usadas: nenhuma\n",
            "QI: 2\n",
            "  Ajudas usadas: nenhuma\n",
            "QI: 3\n",
            "  Ajudas usadas: nenhuma\n",
            "QI: 4\n",
            "  Ajudas usadas: nenhuma\n",
            "QI: 5\n",
            "  Ajudas usadas: nenhuma\n",
            "QI: 6\n",
            "  Ajudas usadas: nenhuma\n",
            "QI: 7\n",
            "  Ajudas usadas: nenhuma\n",
            "QI: 8\n",
            "  Ajudas usadas: nenhuma\n",
            "QI: 9\n",
            "  Ajudas usadas: nenhuma\n",
            "QI: 10\n",
            "  Ajudas usadas: nenhuma\n",
            "QI: 11\n",
            "  Ajudas usadas: nenhuma\n",
            "QI: 12\n",
            "  Ajudas usadas: 50:50 | telefone | plateia\n",
            "Probabilidade: 0.023\n",
            "----------------------------\n",
            "\n",
            "--- Questão 11 ---\n",
            "\n",
            "QI: 1\n",
            "  Ajudas usadas: nenhuma\n",
            "QI: 2\n",
            "  Ajudas usadas: nenhuma\n",
            "QI: 3\n",
            "  Ajudas usadas: nenhuma\n",
            "QI: 4\n",
            "  Ajudas usadas: nenhuma\n",
            "QI: 5\n",
            "  Ajudas usadas: nenhuma\n",
            "QI: 6\n",
            "  Ajudas usadas: nenhuma\n",
            "QI: 7\n",
            "  Ajudas usadas: nenhuma\n",
            "QI: 8\n",
            "  Ajudas usadas: nenhuma\n",
            "QI: 9\n",
            "  Ajudas usadas: nenhuma\n",
            "QI: 10\n",
            "  Ajudas usadas: nenhuma\n",
            "QI: 11\n",
            "  Ajudas usadas: 50:50 | telefone | plateia\n",
            "Probabilidade: 0.048\n",
            "----------------------------\n",
            "\n",
            "--- Questão 10 ---\n",
            "\n",
            "QI: 1\n",
            "  Ajudas usadas: nenhuma\n",
            "QI: 2\n",
            "  Ajudas usadas: nenhuma\n",
            "QI: 3\n",
            "  Ajudas usadas: nenhuma\n",
            "QI: 4\n",
            "  Ajudas usadas: nenhuma\n",
            "QI: 5\n",
            "  Ajudas usadas: nenhuma\n",
            "QI: 6\n",
            "  Ajudas usadas: nenhuma\n",
            "QI: 7\n",
            "  Ajudas usadas: nenhuma\n",
            "QI: 8\n",
            "  Ajudas usadas: nenhuma\n",
            "QI: 9\n",
            "  Ajudas usadas: nenhuma\n",
            "QI: 10\n",
            "  Ajudas usadas: 50:50 | telefone | plateia\n",
            "Probabilidade: 0.092\n",
            "----------------------------\n",
            "\n",
            "--- Questão 9 ---\n",
            "\n",
            "QI: 1\n",
            "  Ajudas usadas: nenhuma\n",
            "QI: 2\n",
            "  Ajudas usadas: nenhuma\n",
            "QI: 3\n",
            "  Ajudas usadas: nenhuma\n",
            "QI: 4\n",
            "  Ajudas usadas: nenhuma\n",
            "QI: 5\n",
            "  Ajudas usadas: nenhuma\n",
            "QI: 6\n",
            "  Ajudas usadas: nenhuma\n",
            "QI: 7\n",
            "  Ajudas usadas: nenhuma\n",
            "QI: 8\n",
            "  Ajudas usadas: nenhuma\n",
            "QI: 9\n",
            "  Ajudas usadas: 50:50 | telefone | plateia\n",
            "Probabilidade: 0.159\n",
            "----------------------------\n",
            "\n",
            "--- Questão 8 ---\n",
            "\n",
            "QI: 1\n",
            "  Ajudas usadas: nenhuma\n",
            "QI: 2\n",
            "  Ajudas usadas: nenhuma\n",
            "QI: 3\n",
            "  Ajudas usadas: nenhuma\n",
            "QI: 4\n",
            "  Ajudas usadas: nenhuma\n",
            "QI: 5\n",
            "  Ajudas usadas: nenhuma\n",
            "QI: 6\n",
            "  Ajudas usadas: nenhuma\n",
            "QI: 7\n",
            "  Ajudas usadas: nenhuma\n",
            "QI: 8\n",
            "  Ajudas usadas: 50:50 | telefone | plateia\n",
            "Probabilidade: 0.254\n",
            "----------------------------\n",
            "\n",
            "--- Questão 7 ---\n",
            "\n",
            "QI: 1\n",
            "  Ajudas usadas: nenhuma\n",
            "QI: 2\n",
            "  Ajudas usadas: nenhuma\n",
            "QI: 3\n",
            "  Ajudas usadas: nenhuma\n",
            "QI: 4\n",
            "  Ajudas usadas: nenhuma\n",
            "QI: 5\n",
            "  Ajudas usadas: nenhuma\n",
            "QI: 6\n",
            "  Ajudas usadas: nenhuma\n",
            "QI: 7\n",
            "  Ajudas usadas: 50:50 | telefone | plateia\n",
            "Probabilidade: 0.375\n",
            "----------------------------\n",
            "\n",
            "--- Questão 6 ---\n",
            "\n",
            "QI: 1\n",
            "  Ajudas usadas: nenhuma\n",
            "QI: 2\n",
            "  Ajudas usadas: nenhuma\n",
            "QI: 3\n",
            "  Ajudas usadas: nenhuma\n",
            "QI: 4\n",
            "  Ajudas usadas: nenhuma\n",
            "QI: 5\n",
            "  Ajudas usadas: nenhuma\n",
            "QI: 6\n",
            "  Ajudas usadas: 50:50 | telefone | plateia\n",
            "Probabilidade: 0.516\n",
            "----------------------------\n",
            "\n",
            "--- Questão 5 ---\n",
            "\n",
            "QI: 1\n",
            "  Ajudas usadas: nenhuma\n",
            "QI: 2\n",
            "  Ajudas usadas: nenhuma\n",
            "QI: 3\n",
            "  Ajudas usadas: nenhuma\n",
            "QI: 4\n",
            "  Ajudas usadas: nenhuma\n",
            "QI: 5\n",
            "  Ajudas usadas: 50:50 | telefone | plateia\n",
            "Probabilidade: 0.663\n",
            "----------------------------\n",
            "\n",
            "--- Questão 4 ---\n",
            "\n",
            "QI: 1\n",
            "  Ajudas usadas: nenhuma\n",
            "QI: 2\n",
            "  Ajudas usadas: nenhuma\n",
            "QI: 3\n",
            "  Ajudas usadas: nenhuma\n",
            "QI: 4\n",
            "  Ajudas usadas: 50:50 | telefone | plateia\n",
            "Probabilidade: 0.801\n",
            "----------------------------\n",
            "\n",
            "--- Questão 3 ---\n",
            "\n",
            "QI: 1\n",
            "  Ajudas usadas: nenhuma\n",
            "QI: 2\n",
            "  Ajudas usadas: nenhuma\n",
            "QI: 3\n",
            "  Ajudas usadas: 50:50 | telefone | plateia\n",
            "Probabilidade: 0.912\n",
            "----------------------------\n",
            "\n",
            "--- Questão 2 ---\n",
            "\n",
            "QI: 1\n",
            "  Ajudas usadas: nenhuma\n",
            "QI: 2\n",
            "  Ajudas usadas: 50:50 | telefone | plateia\n",
            "Probabilidade: 0.982\n",
            "----------------------------\n",
            "\n",
            "--- Questão 1 ---\n",
            "\n",
            "QI: 1\n",
            "  Ajudas usadas: 50:50 | telefone | plateia\n",
            "Probabilidade: 1.000\n",
            "----------------------------\n"
          ]
        }
      ]
    }
  ]
}